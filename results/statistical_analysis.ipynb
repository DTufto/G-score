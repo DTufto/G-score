{
 "cells": [
  {
   "cell_type": "code",
   "id": "initial_id",
   "metadata": {
    "collapsed": true,
    "ExecuteTime": {
     "end_time": "2024-10-28T10:23:58.472161Z",
     "start_time": "2024-10-28T10:23:58.469408Z"
    }
   },
   "source": [
    "from scipy.stats import ttest_rel\n",
    "import pandas as pd\n",
    "import math"
   ],
   "outputs": [],
   "execution_count": 3
  },
  {
   "metadata": {
    "ExecuteTime": {
     "end_time": "2024-10-28T10:23:58.487013Z",
     "start_time": "2024-10-28T10:23:58.482636Z"
    }
   },
   "cell_type": "code",
   "source": [
    "def calculate_FTTSE(energy, time, is_training=True):\n",
    "    if is_training:\n",
    "        return energy * (time**2)\n",
    "    else:\n",
    "        return energy * math.exp(time)\n",
    "\n",
    "def sign_test(data1, data2):\n",
    "    n = len(data1)\n",
    "    assert n == len(data2), \"Data arrays must have the same length\"\n",
    "\n",
    "    # Calculate the difference between the two data arrays\n",
    "    diff = data1 - data2\n",
    "\n",
    "    # Count the number of positive and negative differences\n",
    "    n_pos = sum(diff > 0)\n",
    "    n_neg = sum(diff < 0)\n",
    "\n",
    "    # Calculate the two-tailed p-value\n",
    "    p_value = 2 * min(ttest_rel(data1, data2).pvalue, 0.5)\n",
    "\n",
    "    return n_pos, n_neg, p_value"
   ],
   "id": "d7503d2506c2e450",
   "outputs": [],
   "execution_count": 4
  },
  {
   "metadata": {
    "ExecuteTime": {
     "end_time": "2024-10-28T10:23:58.495290Z",
     "start_time": "2024-10-28T10:23:58.488069Z"
    }
   },
   "cell_type": "code",
   "source": [
    "df = pd.read_csv(\"data/presentation.csv\")\n",
    "\n",
    "df['FTTSE_Training'] = df.apply(\n",
    "    lambda row: calculate_FTTSE(row['Training_Energy_Joules'], row['Training_Time_Seconds'], is_training=True), axis=1)\n",
    "df['FTTSE_Inference'] = df.apply(\n",
    "    lambda row: calculate_FTTSE(row['Inference_Energy_Joules'], row['Inference_Time_Seconds'], is_training=False), axis=1)"
   ],
   "id": "6640773d76aaf001",
   "outputs": [],
   "execution_count": 5
  },
  {
   "metadata": {
    "ExecuteTime": {
     "end_time": "2024-10-28T10:23:58.512424Z",
     "start_time": "2024-10-28T10:23:58.495290Z"
    }
   },
   "cell_type": "code",
   "source": [
    "# Perform the sign test to see whether there is a difference in energy efficiency among the classification models during training\n",
    "models = df['Model'].unique()\n",
    "sign_test_results_training = pd.DataFrame(index=models, columns=models)\n",
    "for model1 in models:\n",
    "    for model2 in models:\n",
    "        if model1 == model2:\n",
    "            sign_test_results_training.loc[model1, model2] = (0, 0, 1.0)\n",
    "        else:\n",
    "            data1 = df[df['Model'] == model1]['FTTSE_Training'].values\n",
    "            data2 = df[df['Model'] == model2]['FTTSE_Training'].values\n",
    "            n_pos, n_neg, p_value = sign_test(data1, data2)\n",
    "            sign_test_results_training.loc[model1, model2] = (n_pos, n_neg, p_value)\n",
    "\n",
    "print(\"Training\")\n",
    "print(sign_test_results_training)"
   ],
   "id": "d3e5174e5762bade",
   "outputs": [
    {
     "name": "stdout",
     "output_type": "stream",
     "text": [
      "Training\n",
      "                                     Decision Tree  \\\n",
      "Decision Tree                          (0, 0, 1.0)   \n",
      "Naive Bayes          (0, 3, 0.0005826531803877175)   \n",
      "Logistic Regression  (0, 3, 0.0005878274873670021)   \n",
      "\n",
      "                                       Naive Bayes  \\\n",
      "Decision Tree        (3, 0, 0.0005826531803877175)   \n",
      "Naive Bayes                            (0, 0, 1.0)   \n",
      "Logistic Regression   (3, 0, 0.003499942864720424)   \n",
      "\n",
      "                               Logistic Regression  \n",
      "Decision Tree        (3, 0, 0.0005878274873670021)  \n",
      "Naive Bayes           (0, 3, 0.003499942864720424)  \n",
      "Logistic Regression                    (0, 0, 1.0)  \n"
     ]
    }
   ],
   "execution_count": 6
  },
  {
   "metadata": {
    "ExecuteTime": {
     "end_time": "2024-10-28T10:23:58.528615Z",
     "start_time": "2024-10-28T10:23:58.513433Z"
    }
   },
   "cell_type": "code",
   "source": [
    "# Perform the sign test to see whether there is a difference in energy efficiency among the classification models during inference\n",
    "sign_test_results_inference = pd.DataFrame(index=models, columns=models)\n",
    "for model1 in models:\n",
    "    for model2 in models:\n",
    "        if model1 == model2:\n",
    "            sign_test_results_inference.loc[model1, model2] = (0, 0, 1.0)\n",
    "        else:\n",
    "            data1 = df[df['Model'] == model1]['FTTSE_Inference'].values\n",
    "            data2 = df[df['Model'] == model2]['FTTSE_Inference'].values\n",
    "            n_pos, n_neg, p_value = sign_test(data1, data2)\n",
    "            sign_test_results_inference.loc[model1, model2] = (n_pos, n_neg, p_value)\n",
    "\n",
    "print(\"Inference\")\n",
    "print(sign_test_results_inference)"
   ],
   "id": "78c3e847277f0758",
   "outputs": [
    {
     "name": "stdout",
     "output_type": "stream",
     "text": [
      "Inference\n",
      "                                     Decision Tree  \\\n",
      "Decision Tree                          (0, 0, 1.0)   \n",
      "Naive Bayes          (3, 0, 0.0005781806676582863)   \n",
      "Logistic Regression   (3, 0, 0.013792409162570152)   \n",
      "\n",
      "                                       Naive Bayes  \\\n",
      "Decision Tree        (0, 3, 0.0005781806676582863)   \n",
      "Naive Bayes                            (0, 0, 1.0)   \n",
      "Logistic Regression   (0, 3, 0.000554567004837298)   \n",
      "\n",
      "                              Logistic Regression  \n",
      "Decision Tree        (0, 3, 0.013792409162570152)  \n",
      "Naive Bayes          (3, 0, 0.000554567004837298)  \n",
      "Logistic Regression                   (0, 0, 1.0)  \n"
     ]
    }
   ],
   "execution_count": 7
  }
 ],
 "metadata": {
  "kernelspec": {
   "display_name": "Python 3",
   "language": "python",
   "name": "python3"
  },
  "language_info": {
   "codemirror_mode": {
    "name": "ipython",
    "version": 2
   },
   "file_extension": ".py",
   "mimetype": "text/x-python",
   "name": "python",
   "nbconvert_exporter": "python",
   "pygments_lexer": "ipython2",
   "version": "2.7.6"
  }
 },
 "nbformat": 4,
 "nbformat_minor": 5
}
